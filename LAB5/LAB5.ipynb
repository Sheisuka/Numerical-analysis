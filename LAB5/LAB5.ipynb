{
  "cells": [
    {
      "cell_type": "markdown",
      "metadata": {
        "id": "F25GYrOYJWtp"
      },
      "source": [
        "# Лабораторная работа № 5.\n",
        "Нахождение собственных чисел и собственных векторов матрицы  \n",
        "Вариант 9"
      ]
    },
    {
      "cell_type": "code",
      "execution_count": 2,
      "metadata": {
        "id": "HJSmxEiRJh9N"
      },
      "outputs": [],
      "source": [
        "import numpy as np\n",
        "\n",
        "\n",
        "\n",
        "np.set_printoptions(2)"
      ]
    },
    {
      "cell_type": "markdown",
      "metadata": {
        "id": "jnDyhkzeNqCO"
      },
      "source": [
        "$a_{ij}=e^{-(i+j)\\alpha}$  \n",
        "$i,j=1,...,n$  \n",
        "$0\\le \\alpha\\le max(i, j)$\n",
        "\n"
      ]
    },
    {
      "cell_type": "code",
      "execution_count": 3,
      "metadata": {
        "id": "g38TQXEfJv0b"
      },
      "outputs": [],
      "source": [
        "def make_matrix(n):\n",
        "    low = 10 ** -6\n",
        "    rng = np.random.default_rng()\n",
        "    A = np.zeros((n, n))\n",
        "    for i in range(n):\n",
        "        for j in range(i, n):\n",
        "            high = 1 / max(i + 1, j + 1)\n",
        "            alpha = rng.uniform(low, high)\n",
        "            A[j, i] = A[i, j] = np.exp(-(i + j + 2) * alpha)\n",
        "\n",
        "    return A"
      ]
    },
    {
      "cell_type": "markdown",
      "metadata": {
        "id": "D7bAEuXkNzdU"
      },
      "source": [
        "Метод скалярных произведений (частичная проблема поиска собственных значений)"
      ]
    },
    {
      "cell_type": "code",
      "execution_count": 7,
      "metadata": {
        "id": "MyoXFTSrNyUr"
      },
      "outputs": [],
      "source": [
        "def scalar_product_method(A, eps=1e-10, max_iterations=10**6):\n",
        "    assert A.ndim == 2\n",
        "    assert A.shape[0] == A.shape[1]\n",
        "\n",
        "    n = A.shape[0]\n",
        "    iterations = 0\n",
        "\n",
        "    y_prev = np.random.rand(n)\n",
        "    y1_prev = y_prev.copy()\n",
        "\n",
        "    y_prev /= np.linalg.norm(y_prev)\n",
        "    y1_prev /= np.linalg.norm(y1_prev)\n",
        "\n",
        "    eigen_value = np.dot(y_prev, y1_prev) / np.dot(y_prev, y1_prev)\n",
        "    prev_eigen_value = eigen_value\n",
        "\n",
        "    while iterations < max_iterations:\n",
        "        iterations += 1\n",
        "\n",
        "        y_new = A @ y_prev\n",
        "        y1_new = A.T @ y1_prev\n",
        "\n",
        "        eigen_value = np.dot(y_new, y1_new) / np.dot(y_prev, y1_new)\n",
        "\n",
        "        if abs(eigen_value - prev_eigen_value) < eps:\n",
        "            break\n",
        "\n",
        "        prev_eigen_value = eigen_value\n",
        "        y_prev, y1_prev = y_new, y1_new\n",
        "\n",
        "    eigen_vector = y_new / np.linalg.norm(y_new)\n",
        "\n",
        "    return eigen_value, eigen_vector\n"
      ]
    },
    {
      "cell_type": "markdown",
      "metadata": {
        "id": "611zqBPZkhMp"
      },
      "source": [
        "Степенной метод (частичная проблема поиска собственных значений)  \n",
        "Предполагается, что матрица А действительная с положительными коэффициентами"
      ]
    },
    {
      "cell_type": "code",
      "execution_count": 6,
      "metadata": {
        "id": "kWDCnR_Kk53m"
      },
      "outputs": [],
      "source": [
        "def power_method(A, eps=1e-10, max_iterations=10**6):\n",
        "    assert A.ndim == 2\n",
        "    assert A.shape[0] == A.shape[1]\n",
        "\n",
        "    iterations = 0\n",
        "    n = A.shape[0]\n",
        "\n",
        "    y_prev = np.random.rand(n)\n",
        "    y_prev /= np.linalg.norm(y_prev)\n",
        "    y_new = y_prev.copy()\n",
        "\n",
        "    while (iterations < max_iterations):\n",
        "        iterations += 1\n",
        "\n",
        "        y_new = A @ y_prev\n",
        "        y_new /= np.linalg.norm(y_new)\n",
        "\n",
        "        if np.linalg.norm(y_new - y_prev) < eps:\n",
        "            break\n",
        "\n",
        "        y_prev = y_new\n",
        "\n",
        "    max_eigen_value = np.dot(A @ y_new, y_new)\n",
        "    eigen_vector = y_new / np.linalg.norm(y_new)\n",
        "\n",
        "    return max_eigen_value, eigen_vector\n"
      ]
    },
    {
      "cell_type": "markdown",
      "metadata": {
        "id": "M5FVtEejvI2G"
      },
      "source": [
        "Метод Якоби, метод вращений (полная проблема поиска собственных значений)  \n",
        "Предполагается, что матрица А вещественная и симметричная"
      ]
    },
    {
      "cell_type": "code",
      "execution_count": 4,
      "metadata": {
        "id": "7ObmLFA0vIRJ"
      },
      "outputs": [],
      "source": [
        "def measure(A):\n",
        "    s = 0\n",
        "    n = A.shape[0]\n",
        "\n",
        "    for i in range(n):\n",
        "        for j in range(n):\n",
        "            if i == j:\n",
        "                continue\n",
        "            s += A[i, j] ** 2\n",
        "\n",
        "    return s\n",
        "\n",
        "\n",
        "def max_pos(A):\n",
        "    n = A.shape[0]\n",
        "    m = np.finfo(\"float64\").min\n",
        "    pos = (0, 0)\n",
        "\n",
        "    for i in range(n):\n",
        "        for j in range(n):\n",
        "            if i == j:\n",
        "                continue\n",
        "            if abs(A[i, j]) > m:\n",
        "                m = abs(A[i, j])\n",
        "                pos = (i, j)\n",
        "\n",
        "    return pos\n",
        "\n",
        "\n",
        "def jacobi_method(A, eps=10**-10, max_iterations=10**6):\n",
        "    assert A.ndim == 2\n",
        "    assert A.shape[0] == A.shape[1]\n",
        "\n",
        "    iterations = 0\n",
        "    n = A.shape[0]\n",
        "    Q = np.eye(n)\n",
        "\n",
        "    while (measure(A) >= eps) and (iterations <= max_iterations):\n",
        "        i, j = max_pos(A)\n",
        "\n",
        "        if A[i, i] != A[j, j]:\n",
        "            angle = np.arctan(2 * A[i, j] / (A[i, i] - A[j, j])) / 2\n",
        "        else:\n",
        "            angle = np.pi / 4\n",
        "\n",
        "        P = np.eye(n)\n",
        "        P[i, i] = P[j, j] = np.cos(angle)\n",
        "        P[i, j] = -np.sin(angle)\n",
        "        P[j, i] = np.sin(angle)\n",
        "\n",
        "        A = P.T @ A @ P\n",
        "        Q = Q @ P\n",
        "\n",
        "        iterations += 1\n",
        "\n",
        "    eigen_values = np.diag(A)\n",
        "    eigen_vectors = [Q[0:n, i] for i in range(n)]\n",
        "\n",
        "    return (eigen_values, eigen_vectors)\n",
        "\n"
      ]
    },
    {
      "cell_type": "code",
      "execution_count": 5,
      "metadata": {
        "id": "zpYrjeeJ6VXv",
        "colab": {
          "base_uri": "https://localhost:8080/"
        },
        "outputId": "e5ed5769-f024-4cf7-fcbd-6fc8f404ec37"
      },
      "outputs": [
        {
          "output_type": "stream",
          "name": "stdout",
          "text": [
            "Матрица имеет вид:\n",
            "[[0.17 0.32 0.31 0.75 0.33]\n",
            " [0.32 0.17 0.58 0.46 0.84]\n",
            " [0.31 0.58 0.17 0.83 0.61]\n",
            " [0.75 0.46 0.83 0.41 0.28]\n",
            " [0.33 0.84 0.61 0.28 0.55]]\n"
          ]
        }
      ],
      "source": [
        "n = 5\n",
        "A = make_matrix(n)\n",
        "print(f\"Матрица имеет вид:\\n{A}\")"
      ]
    },
    {
      "cell_type": "code",
      "execution_count": 8,
      "metadata": {
        "id": "Gf0nPkTb6jYF",
        "colab": {
          "base_uri": "https://localhost:8080/"
        },
        "outputId": "601d61f0-d86a-40f3-b665-78011ea68e9a"
      },
      "outputs": [
        {
          "output_type": "stream",
          "name": "stdout",
          "text": [
            "Максимальное по модулю собс. значение: 2.4465280845189463\n",
            "Собственный вектор: [0.35 0.44 0.46 0.49 0.48]\n",
            "Вектор невязки: [-8.71e-07 -5.74e-08 -1.27e-06  1.36e-06  5.42e-07]\n"
          ]
        }
      ],
      "source": [
        "eigen_value_s, eigen_vector_s = scalar_product_method(A)\n",
        "print(f\"Максимальное по модулю собс. значение: {eigen_value_s}\")\n",
        "print(f\"Собственный вектор: {eigen_vector_s}\")\n",
        "print(f\"Вектор невязки: {A @ eigen_vector_s - eigen_value_s * eigen_vector_s}\")"
      ]
    },
    {
      "cell_type": "code",
      "execution_count": 9,
      "metadata": {
        "id": "baIRnFbf_vf1",
        "colab": {
          "base_uri": "https://localhost:8080/"
        },
        "outputId": "cb2fa8b8-dda2-4a02-a8a6-79f9200468dd"
      },
      "outputs": [
        {
          "output_type": "stream",
          "name": "stdout",
          "text": [
            "Максимальное по модулю собс. значение: 2.4465280845143083\n",
            "Собственный вектор: [0.35 0.44 0.46 0.49 0.48]\n",
            "Вектор невязки: [ 9.98e-12  1.74e-12  1.42e-11 -1.57e-11 -6.90e-12]\n"
          ]
        }
      ],
      "source": [
        "eigen_value_p, eigen_vector_p = power_method(A)\n",
        "print(f\"Максимальное по модулю собс. значение: {eigen_value_p}\")\n",
        "print(f\"Собственный вектор: {eigen_vector_p}\")\n",
        "print(f\"Вектор невязки: {A @ eigen_vector_p - eigen_value_p * eigen_vector_p}\")"
      ]
    },
    {
      "cell_type": "code",
      "execution_count": 10,
      "metadata": {
        "id": "-X9wjCtjAFr6",
        "colab": {
          "base_uri": "https://localhost:8080/"
        },
        "outputId": "3a208eb9-2805-46c1-c83d-c0db93c6fd82"
      },
      "outputs": [
        {
          "output_type": "stream",
          "name": "stdout",
          "text": [
            "Минимальное собственное значение матрицы: -0.7473627663023965\n"
          ]
        }
      ],
      "source": [
        "B = A - eigen_value_s * np.eye(n)\n",
        "b_eigen_value, b_eigen_vector = scalar_product_method(B)\n",
        "min_eigen_value = b_eigen_value + eigen_value_s\n",
        "print(f\"Минимальное собственное значение матрицы: {min_eigen_value}\")"
      ]
    },
    {
      "cell_type": "code",
      "execution_count": 11,
      "metadata": {
        "id": "aZiDVKovBpm6",
        "colab": {
          "base_uri": "https://localhost:8080/"
        },
        "outputId": "5c2a02ad-3e06-4a09-b483-fe9a60433ae8"
      },
      "outputs": [
        {
          "output_type": "stream",
          "name": "stdout",
          "text": [
            "Собственные значения, вектора и вектора невязки:\n",
            "0\t-0.1785350248394256\n",
            "\t[ 0.73  0.01 -0.61 -0.2   0.25]\n",
            "\t[-2.49e-07  3.35e-06 -1.09e-06  1.07e-07 -1.97e-06]\n",
            "1\t-0.5262404554538299\n",
            "\t[-0.06  0.83 -0.27  0.02 -0.49]\n",
            "\t[ 2.94e-06  3.47e-08 -2.46e-06 -8.10e-07  1.01e-06]\n",
            "2\t-0.747362766934942\n",
            "\t[ 0.41  0.07  0.58 -0.64 -0.28]\n",
            "\t[-7.67e-07 -1.09e-07 -5.01e-07 -1.01e-06  1.36e-07]\n",
            "3\t0.46971554582447916\n",
            "\t[ 0.42 -0.34  0.06  0.56 -0.63]\n",
            "\t[-3.75e-07 -4.40e-08 -5.38e-07  6.48e-07  2.99e-07]\n",
            "4\t2.446528084514007\n",
            "\t[0.35 0.44 0.46 0.49 0.48]\n",
            "\t[-3.76e-07 -8.81e-08 -5.67e-07  6.59e-07  2.41e-07]\n"
          ]
        }
      ],
      "source": [
        "eigen_values, eigen_vectors = jacobi_method(A)\n",
        "print(\"Собственные значения, вектора и вектора невязки:\")\n",
        "for i, v in enumerate(eigen_values):\n",
        "    vec = eigen_vectors[i]\n",
        "    print(f\"{i}\\t{v}\")\n",
        "    print(f\"\\t{vec}\")\n",
        "    print(f\"\\t{A @ vec - v * vec}\")"
      ]
    }
  ],
  "metadata": {
    "colab": {
      "provenance": []
    },
    "kernelspec": {
      "display_name": "Python 3",
      "name": "python3"
    },
    "language_info": {
      "name": "python"
    }
  },
  "nbformat": 4,
  "nbformat_minor": 0
}