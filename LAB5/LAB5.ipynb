{
  "cells": [
    {
      "cell_type": "markdown",
      "metadata": {
        "id": "F25GYrOYJWtp"
      },
      "source": [
        "# Лабораторная работа № 5.\n",
        "Нахождение собственных чисел и собственных векторов матрицы  \n",
        "Вариант 9"
      ]
    },
    {
      "cell_type": "code",
      "execution_count": null,
      "metadata": {
        "id": "HJSmxEiRJh9N"
      },
      "outputs": [],
      "source": [
        "import numpy as np\n",
        "\n",
        "\n",
        "\n",
        "np.set_printoptions(2)"
      ]
    },
    {
      "cell_type": "markdown",
      "metadata": {
        "id": "jnDyhkzeNqCO"
      },
      "source": [
        "$a_{ij}=e^{-(i+j)\\alpha}$  \n",
        "$i,j=1,...,n$  \n",
        "$0\\le \\alpha\\le max(i, j)$\n",
        "\n"
      ]
    },
    {
      "cell_type": "code",
      "execution_count": null,
      "metadata": {
        "id": "g38TQXEfJv0b"
      },
      "outputs": [],
      "source": [
        "def make_matrix(n):\n",
        "    low = 10 ** -6\n",
        "    rng = np.random.default_rng()\n",
        "    A = np.zeros((n, n))\n",
        "    for i in range(n):\n",
        "        for j in range(i, n):\n",
        "            high = 1 / max(i + 1, j + 1)\n",
        "            alpha = rng.uniform(low, high)\n",
        "            A[j, i] = A[i, j] = np.exp(-(i + j + 2) * alpha)\n",
        "\n",
        "    return A"
      ]
    },
    {
      "cell_type": "markdown",
      "metadata": {
        "id": "D7bAEuXkNzdU"
      },
      "source": [
        "Метод скалярных произведений (частичная проблема поиска собственных значений)"
      ]
    },
    {
      "cell_type": "code",
      "execution_count": 49,
      "metadata": {
        "id": "MyoXFTSrNyUr"
      },
      "outputs": [],
      "source": [
        "def scalar_product_method(A, eps=1e-10, max_iterations=10**6):\n",
        "    assert A.ndim == 2\n",
        "    assert A.shape[0] == A.shape[1]\n",
        "\n",
        "    n = A.shape[0]\n",
        "    iterations = 0\n",
        "\n",
        "    y_prev = np.random.rand(n)\n",
        "    y1_prev = y_prev.copy()\n",
        "\n",
        "    y_prev /= np.linalg.norm(y_prev)\n",
        "    y1_prev /= np.linalg.norm(y1_prev)\n",
        "\n",
        "    eigen_value = np.dot(y_prev, y1_prev) / np.dot(y_prev, y1_prev)\n",
        "    prev_eigen_value = eigen_value\n",
        "\n",
        "    while iterations < max_iterations:\n",
        "        iterations += 1\n",
        "\n",
        "        y_new = A @ y_prev\n",
        "        y1_new = A.T @ y1_prev\n",
        "\n",
        "        eigen_value = np.dot(y_new, y1_new) / np.dot(y_prev, y1_new)\n",
        "\n",
        "        if abs(eigen_value - prev_eigen_value) < eps:\n",
        "            break\n",
        "\n",
        "        prev_eigen_value = eigen_value\n",
        "        y_prev, y1_prev = y_new, y1_new\n",
        "\n",
        "    eigen_vector = y_new / np.linalg.norm(y_new)\n",
        "\n",
        "    return eigen_value, eigen_vector\n"
      ]
    },
    {
      "cell_type": "markdown",
      "metadata": {
        "id": "611zqBPZkhMp"
      },
      "source": [
        "Степенной метод (частичная проблема поиска собственных значений)  \n",
        "Предполагается, что матрица А действительная с положительными коэффициентами"
      ]
    },
    {
      "cell_type": "code",
      "execution_count": null,
      "metadata": {
        "id": "kWDCnR_Kk53m"
      },
      "outputs": [],
      "source": [
        "def power_method(A, eps=1e-10, max_iterations=10**6):\n",
        "    assert A.ndim == 2\n",
        "    assert A.shape[0] == A.shape[1]\n",
        "\n",
        "    iterations = 0\n",
        "    n = A.shape[0]\n",
        "\n",
        "    y_prev = np.random.rand(n)\n",
        "    y_prev /= np.linalg.norm(y_prev)\n",
        "    y_new = y_prev.copy()\n",
        "\n",
        "    while (iterations < max_iterations):\n",
        "        iterations += 1\n",
        "\n",
        "        y_new = A @ y_prev\n",
        "        y_new /= np.linalg.norm(y_new)\n",
        "\n",
        "        if np.linalg.norm(y_new - y_prev) < eps:\n",
        "            break\n",
        "\n",
        "        y_prev = y_new\n",
        "\n",
        "    max_eigen_value = np.dot(A @ y_new, y_new)\n",
        "    eigen_vector = y_new / np.linalg.norm(y_new)\n",
        "\n",
        "    return max_eigen_value, eigen_vector\n"
      ]
    },
    {
      "cell_type": "markdown",
      "metadata": {
        "id": "M5FVtEejvI2G"
      },
      "source": [
        "Метод Якоби, метод вращений (полная проблема поиска собственных значений)  \n",
        "Предполагается, что матрица А вещественная и симметричная"
      ]
    },
    {
      "cell_type": "code",
      "execution_count": 55,
      "metadata": {
        "id": "7ObmLFA0vIRJ"
      },
      "outputs": [],
      "source": [
        "def measure(A):\n",
        "    s = 0\n",
        "    n = A.shape[0]\n",
        "\n",
        "    for i in range(n):\n",
        "        for j in range(n):\n",
        "            if i == j:\n",
        "                continue\n",
        "            s += A[i, j] ** 2\n",
        "\n",
        "    return s\n",
        "\n",
        "\n",
        "def max_pos(A):\n",
        "    n = A.shape[0]\n",
        "    m = np.finfo(\"float64\").min\n",
        "    pos = (0, 0)\n",
        "\n",
        "    for i in range(n):\n",
        "        for j in range(n):\n",
        "            if i == j:\n",
        "                continue\n",
        "            if A[i, j] > m:\n",
        "                m = A[i, j]\n",
        "                pos = (i, j)\n",
        "\n",
        "    return pos\n",
        "\n",
        "\n",
        "def jacobi_method(A, eps=10**-10, max_iterations=10**6):\n",
        "    assert A.ndim == 2\n",
        "    assert A.shape[0] == A.shape[1]\n",
        "\n",
        "    iterations = 0\n",
        "    n = A.shape[0]\n",
        "    Q = np.eye(n)\n",
        "\n",
        "    while (measure(A) >= eps) and (iterations <= max_iterations):\n",
        "        i, j = max_pos(A)\n",
        "\n",
        "        if A[i, i] != A[j, j]:\n",
        "            angle = np.arctan(2 * A[i, j] / (A[i, i] - A[j, j])) / 2\n",
        "        else:\n",
        "            angle = np.pi / 4\n",
        "\n",
        "        P = np.eye(n)\n",
        "        P[i, i] = P[j, j] = np.cos(angle)\n",
        "        P[i, j] = -np.sin(angle)\n",
        "        P[j, i] = np.sin(angle)\n",
        "\n",
        "        A = P.T @ A @ P\n",
        "        Q = Q @ P\n",
        "\n",
        "        iterations += 1\n",
        "\n",
        "    eigen_values = np.diag(A)\n",
        "    eigen_vectors = [Q[0:n, i] for i in range(n)]\n",
        "\n",
        "    return (eigen_values, eigen_vectors)\n",
        "\n"
      ]
    },
    {
      "cell_type": "code",
      "execution_count": null,
      "metadata": {
        "id": "zpYrjeeJ6VXv",
        "colab": {
          "base_uri": "https://localhost:8080/"
        },
        "outputId": "4848da2a-6acd-4d82-94da-57632dac404e"
      },
      "outputs": [
        {
          "output_type": "stream",
          "name": "stdout",
          "text": [
            "Матрица имеет вид:\n",
            "[[0.18 0.47 0.3  0.5  0.9 ]\n",
            " [0.47 0.15 0.28 0.52 0.63]\n",
            " [0.3  0.28 0.35 0.19 0.81]\n",
            " [0.5  0.52 0.19 0.68 0.48]\n",
            " [0.9  0.63 0.81 0.48 0.19]]\n"
          ]
        }
      ],
      "source": [
        "n = 5\n",
        "A = make_matrix(n)\n",
        "print(f\"Матрица имеет вид:\\n{A}\")"
      ]
    },
    {
      "cell_type": "code",
      "execution_count": 50,
      "metadata": {
        "id": "Gf0nPkTb6jYF",
        "colab": {
          "base_uri": "https://localhost:8080/"
        },
        "outputId": "2c1cc66f-13c9-4ff9-eb23-42005c6e541f"
      },
      "outputs": [
        {
          "output_type": "stream",
          "name": "stdout",
          "text": [
            "Максимальное по модулю собс. значение: 2.3897920556566277\n",
            "Собственный вектор: [0.46 0.4  0.38 0.45 0.54]\n",
            "Вектор невязки: [-9.41e-05 -2.96e-05 -6.72e-05  3.13e-06  1.47e-04]\n"
          ]
        }
      ],
      "source": [
        "eigen_value_s, eigen_vector_s = scalar_product_method(A)\n",
        "print(f\"Максимальное по модулю собс. значение: {eigen_value_s}\")\n",
        "print(f\"Собственный вектор: {eigen_vector_s}\")\n",
        "print(f\"Вектор невязки: {A @ eigen_vector_s - eigen_value_s * eigen_vector_s}\")"
      ]
    },
    {
      "cell_type": "code",
      "execution_count": 51,
      "metadata": {
        "id": "baIRnFbf_vf1",
        "colab": {
          "base_uri": "https://localhost:8080/"
        },
        "outputId": "b14515ca-ae06-4c9c-b35a-abde12b7684f"
      },
      "outputs": [
        {
          "output_type": "stream",
          "name": "stdout",
          "text": [
            "Максимальное по модулю собс. значение: 2.389792026090044\n",
            "Собственный вектор: [0.46 0.4  0.38 0.45 0.54]\n",
            "Вектор невязки: [ 1.69e-11  5.32e-12  1.20e-11 -5.18e-13 -2.63e-11]\n"
          ]
        }
      ],
      "source": [
        "eigen_value_p, eigen_vector_p = power_method(A)\n",
        "print(f\"Максимальное по модулю собс. значение: {eigen_value_p}\")\n",
        "print(f\"Собственный вектор: {eigen_vector_p}\")\n",
        "print(f\"Вектор невязки: {A @ eigen_vector_p - eigen_value_p * eigen_vector_p}\")"
      ]
    },
    {
      "cell_type": "code",
      "execution_count": 53,
      "metadata": {
        "id": "-X9wjCtjAFr6",
        "colab": {
          "base_uri": "https://localhost:8080/"
        },
        "outputId": "57a49964-6877-4139-c162-be7445902aac"
      },
      "outputs": [
        {
          "output_type": "stream",
          "name": "stdout",
          "text": [
            "Минимальное собственное значение матрицы: -0.8826620127516431\n"
          ]
        }
      ],
      "source": [
        "B = A - eigen_value_s * np.eye(n)\n",
        "b_eigen_value, b_eigen_vector = scalar_product_method(B)\n",
        "min_eigen_value = b_eigen_value + eigen_value_s\n",
        "print(f\"Минимальное собственное значение матрицы: {min_eigen_value}\")"
      ]
    },
    {
      "cell_type": "code",
      "execution_count": 56,
      "metadata": {
        "id": "aZiDVKovBpm6",
        "colab": {
          "base_uri": "https://localhost:8080/"
        },
        "outputId": "ab7ef55e-a999-4777-db27-02f6e2fb97d7"
      },
      "outputs": [
        {
          "output_type": "stream",
          "name": "stdout",
          "text": [
            "Собственные значения, вектора и вектора невязки:\n",
            "0\t-0.7327025276815455\n",
            "\t[ 0.73 -0.01  0.03 -0.08 -0.67]\n",
            "\t[ 0.02 -0.12 -0.31 -0.07  0.02]\n",
            "1\t-0.27329800598047016\n",
            "\t[-0.17  0.91 -0.16 -0.29 -0.17]\n",
            "\t[ 6.00e-03 -8.64e-05 -8.86e-02 -6.95e-04  7.42e-02]\n",
            "2\t-0.1552480539852873\n",
            "\t[-0.38  0.    0.84  0.   -0.38]\n",
            "\t[-2.13e-01 -1.83e-01 -5.55e-17 -2.13e-01  2.11e-01]\n",
            "3\t0.33243035859323417\n",
            "\t[-0.24  0.1  -0.27  0.85 -0.37]\n",
            "\t[ 0.09 -0.   -0.19  0.    0.09]\n",
            "4\t2.3690306475163045\n",
            "\t[0.48 0.4  0.43 0.44 0.48]\n",
            "\t[-0.08  0.   -0.15  0.02  0.19]\n"
          ]
        }
      ],
      "source": [
        "eigen_values, eigen_vectors = jacobi_method(A)\n",
        "print(\"Собственные значения, вектора и вектора невязки:\")\n",
        "for i, v in enumerate(eigen_values):\n",
        "    vec = eigen_vectors[i]\n",
        "    print(f\"{i}\\t{v}\")\n",
        "    print(f\"\\t{vec}\")\n",
        "    print(f\"\\t{A @ vec - v * vec}\")"
      ]
    }
  ],
  "metadata": {
    "colab": {
      "provenance": []
    },
    "kernelspec": {
      "display_name": "Python 3",
      "name": "python3"
    },
    "language_info": {
      "name": "python"
    }
  },
  "nbformat": 4,
  "nbformat_minor": 0
}